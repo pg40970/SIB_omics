{
 "cells": [
  {
   "cell_type": "markdown",
   "metadata": {},
   "source": [
    "### SCORES DE SEVERIDADE"
   ]
  },
  {
   "cell_type": "markdown",
   "metadata": {},
   "source": [
    "#### Hospital-free days post 45 day (HFD-45)"
   ]
  },
  {
   "cell_type": "code",
   "execution_count": 9,
   "metadata": {},
   "outputs": [
    {
     "name": "stderr",
     "output_type": "stream",
     "text": [
      "15-Jan-2021 18:05:56 DEBUG utils - Directory ./ already exists. Skipping.\n",
      "15-Jan-2021 18:05:56 INFO GEOparse - File already exist: using local version.\n",
      "15-Jan-2021 18:05:56 INFO GEOparse - Parsing ./GSE157103_family.soft.gz: \n",
      "15-Jan-2021 18:05:56 DEBUG GEOparse - DATABASE: GeoMiame\n",
      "15-Jan-2021 18:05:56 DEBUG GEOparse - SERIES: GSE157103\n",
      "15-Jan-2021 18:05:56 DEBUG GEOparse - PLATFORM: GPL24676\n",
      "15-Jan-2021 18:05:56 DEBUG GEOparse - SAMPLE: GSM4753021\n",
      "15-Jan-2021 18:05:56 DEBUG GEOparse - SAMPLE: GSM4753022\n",
      "15-Jan-2021 18:05:56 DEBUG GEOparse - SAMPLE: GSM4753023\n",
      "15-Jan-2021 18:05:56 DEBUG GEOparse - SAMPLE: GSM4753024\n",
      "15-Jan-2021 18:05:56 DEBUG GEOparse - SAMPLE: GSM4753025\n",
      "15-Jan-2021 18:05:56 DEBUG GEOparse - SAMPLE: GSM4753026\n",
      "15-Jan-2021 18:05:56 DEBUG GEOparse - SAMPLE: GSM4753027\n",
      "15-Jan-2021 18:05:56 DEBUG GEOparse - SAMPLE: GSM4753028\n",
      "15-Jan-2021 18:05:56 DEBUG GEOparse - SAMPLE: GSM4753029\n",
      "15-Jan-2021 18:05:57 DEBUG GEOparse - SAMPLE: GSM4753030\n",
      "15-Jan-2021 18:05:57 DEBUG GEOparse - SAMPLE: GSM4753031\n",
      "15-Jan-2021 18:05:57 DEBUG GEOparse - SAMPLE: GSM4753032\n",
      "15-Jan-2021 18:05:57 DEBUG GEOparse - SAMPLE: GSM4753033\n",
      "15-Jan-2021 18:05:57 DEBUG GEOparse - SAMPLE: GSM4753034\n",
      "15-Jan-2021 18:05:57 DEBUG GEOparse - SAMPLE: GSM4753035\n",
      "15-Jan-2021 18:05:57 DEBUG GEOparse - SAMPLE: GSM4753036\n",
      "15-Jan-2021 18:05:57 DEBUG GEOparse - SAMPLE: GSM4753037\n",
      "15-Jan-2021 18:05:57 DEBUG GEOparse - SAMPLE: GSM4753038\n",
      "15-Jan-2021 18:05:57 DEBUG GEOparse - SAMPLE: GSM4753039\n",
      "15-Jan-2021 18:05:57 DEBUG GEOparse - SAMPLE: GSM4753040\n",
      "15-Jan-2021 18:05:57 DEBUG GEOparse - SAMPLE: GSM4753041\n",
      "15-Jan-2021 18:05:57 DEBUG GEOparse - SAMPLE: GSM4753042\n",
      "15-Jan-2021 18:05:57 DEBUG GEOparse - SAMPLE: GSM4753043\n",
      "15-Jan-2021 18:05:57 DEBUG GEOparse - SAMPLE: GSM4753044\n",
      "15-Jan-2021 18:05:57 DEBUG GEOparse - SAMPLE: GSM4753045\n",
      "15-Jan-2021 18:05:57 DEBUG GEOparse - SAMPLE: GSM4753046\n",
      "15-Jan-2021 18:05:57 DEBUG GEOparse - SAMPLE: GSM4753047\n",
      "15-Jan-2021 18:05:57 DEBUG GEOparse - SAMPLE: GSM4753048\n",
      "15-Jan-2021 18:05:57 DEBUG GEOparse - SAMPLE: GSM4753049\n",
      "15-Jan-2021 18:05:57 DEBUG GEOparse - SAMPLE: GSM4753050\n",
      "15-Jan-2021 18:05:57 DEBUG GEOparse - SAMPLE: GSM4753051\n",
      "15-Jan-2021 18:05:57 DEBUG GEOparse - SAMPLE: GSM4753052\n",
      "15-Jan-2021 18:05:57 DEBUG GEOparse - SAMPLE: GSM4753053\n",
      "15-Jan-2021 18:05:57 DEBUG GEOparse - SAMPLE: GSM4753054\n",
      "15-Jan-2021 18:05:57 DEBUG GEOparse - SAMPLE: GSM4753055\n",
      "15-Jan-2021 18:05:57 DEBUG GEOparse - SAMPLE: GSM4753056\n",
      "15-Jan-2021 18:05:57 DEBUG GEOparse - SAMPLE: GSM4753057\n",
      "15-Jan-2021 18:05:57 DEBUG GEOparse - SAMPLE: GSM4753058\n",
      "15-Jan-2021 18:05:57 DEBUG GEOparse - SAMPLE: GSM4753059\n",
      "15-Jan-2021 18:05:57 DEBUG GEOparse - SAMPLE: GSM4753060\n",
      "15-Jan-2021 18:05:57 DEBUG GEOparse - SAMPLE: GSM4753061\n",
      "15-Jan-2021 18:05:57 DEBUG GEOparse - SAMPLE: GSM4753062\n",
      "15-Jan-2021 18:05:57 DEBUG GEOparse - SAMPLE: GSM4753063\n",
      "15-Jan-2021 18:05:57 DEBUG GEOparse - SAMPLE: GSM4753064\n",
      "15-Jan-2021 18:05:57 DEBUG GEOparse - SAMPLE: GSM4753065\n",
      "15-Jan-2021 18:05:57 DEBUG GEOparse - SAMPLE: GSM4753066\n",
      "15-Jan-2021 18:05:57 DEBUG GEOparse - SAMPLE: GSM4753067\n",
      "15-Jan-2021 18:05:57 DEBUG GEOparse - SAMPLE: GSM4753068\n",
      "15-Jan-2021 18:05:57 DEBUG GEOparse - SAMPLE: GSM4753069\n",
      "15-Jan-2021 18:05:57 DEBUG GEOparse - SAMPLE: GSM4753070\n",
      "15-Jan-2021 18:05:57 DEBUG GEOparse - SAMPLE: GSM4753071\n",
      "15-Jan-2021 18:05:57 DEBUG GEOparse - SAMPLE: GSM4753072\n",
      "15-Jan-2021 18:05:57 DEBUG GEOparse - SAMPLE: GSM4753073\n",
      "15-Jan-2021 18:05:57 DEBUG GEOparse - SAMPLE: GSM4753074\n",
      "15-Jan-2021 18:05:57 DEBUG GEOparse - SAMPLE: GSM4753075\n",
      "15-Jan-2021 18:05:57 DEBUG GEOparse - SAMPLE: GSM4753076\n",
      "15-Jan-2021 18:05:57 DEBUG GEOparse - SAMPLE: GSM4753077\n",
      "15-Jan-2021 18:05:57 DEBUG GEOparse - SAMPLE: GSM4753078\n",
      "15-Jan-2021 18:05:57 DEBUG GEOparse - SAMPLE: GSM4753079\n",
      "15-Jan-2021 18:05:57 DEBUG GEOparse - SAMPLE: GSM4753080\n",
      "15-Jan-2021 18:05:57 DEBUG GEOparse - SAMPLE: GSM4753081\n",
      "15-Jan-2021 18:05:57 DEBUG GEOparse - SAMPLE: GSM4753082\n",
      "15-Jan-2021 18:05:57 DEBUG GEOparse - SAMPLE: GSM4753083\n",
      "15-Jan-2021 18:05:57 DEBUG GEOparse - SAMPLE: GSM4753084\n",
      "15-Jan-2021 18:05:57 DEBUG GEOparse - SAMPLE: GSM4753085\n",
      "15-Jan-2021 18:05:57 DEBUG GEOparse - SAMPLE: GSM4753086\n",
      "15-Jan-2021 18:05:57 DEBUG GEOparse - SAMPLE: GSM4753087\n",
      "15-Jan-2021 18:05:57 DEBUG GEOparse - SAMPLE: GSM4753088\n",
      "15-Jan-2021 18:05:58 DEBUG GEOparse - SAMPLE: GSM4753089\n",
      "15-Jan-2021 18:05:58 DEBUG GEOparse - SAMPLE: GSM4753090\n",
      "15-Jan-2021 18:05:58 DEBUG GEOparse - SAMPLE: GSM4753091\n",
      "15-Jan-2021 18:05:58 DEBUG GEOparse - SAMPLE: GSM4753092\n",
      "15-Jan-2021 18:05:58 DEBUG GEOparse - SAMPLE: GSM4753093\n",
      "15-Jan-2021 18:05:58 DEBUG GEOparse - SAMPLE: GSM4753094\n",
      "15-Jan-2021 18:05:58 DEBUG GEOparse - SAMPLE: GSM4753095\n",
      "15-Jan-2021 18:05:58 DEBUG GEOparse - SAMPLE: GSM4753096\n",
      "15-Jan-2021 18:05:58 DEBUG GEOparse - SAMPLE: GSM4753097\n",
      "15-Jan-2021 18:05:58 DEBUG GEOparse - SAMPLE: GSM4753098\n",
      "15-Jan-2021 18:05:58 DEBUG GEOparse - SAMPLE: GSM4753099\n",
      "15-Jan-2021 18:05:58 DEBUG GEOparse - SAMPLE: GSM4753100\n",
      "15-Jan-2021 18:05:58 DEBUG GEOparse - SAMPLE: GSM4753101\n",
      "15-Jan-2021 18:05:58 DEBUG GEOparse - SAMPLE: GSM4753102\n",
      "15-Jan-2021 18:05:58 DEBUG GEOparse - SAMPLE: GSM4753103\n",
      "15-Jan-2021 18:05:58 DEBUG GEOparse - SAMPLE: GSM4753104\n",
      "15-Jan-2021 18:05:58 DEBUG GEOparse - SAMPLE: GSM4753105\n",
      "15-Jan-2021 18:05:58 DEBUG GEOparse - SAMPLE: GSM4753106\n",
      "15-Jan-2021 18:05:58 DEBUG GEOparse - SAMPLE: GSM4753107\n",
      "15-Jan-2021 18:05:58 DEBUG GEOparse - SAMPLE: GSM4753108\n",
      "15-Jan-2021 18:05:58 DEBUG GEOparse - SAMPLE: GSM4753109\n",
      "15-Jan-2021 18:05:58 DEBUG GEOparse - SAMPLE: GSM4753110\n",
      "15-Jan-2021 18:05:58 DEBUG GEOparse - SAMPLE: GSM4753111\n",
      "15-Jan-2021 18:05:58 DEBUG GEOparse - SAMPLE: GSM4753112\n",
      "15-Jan-2021 18:05:58 DEBUG GEOparse - SAMPLE: GSM4753113\n",
      "15-Jan-2021 18:05:58 DEBUG GEOparse - SAMPLE: GSM4753114\n",
      "15-Jan-2021 18:05:58 DEBUG GEOparse - SAMPLE: GSM4753115\n",
      "15-Jan-2021 18:05:58 DEBUG GEOparse - SAMPLE: GSM4753116\n",
      "15-Jan-2021 18:05:58 DEBUG GEOparse - SAMPLE: GSM4753117\n",
      "15-Jan-2021 18:05:58 DEBUG GEOparse - SAMPLE: GSM4753118\n",
      "15-Jan-2021 18:05:58 DEBUG GEOparse - SAMPLE: GSM4753119\n",
      "15-Jan-2021 18:05:58 DEBUG GEOparse - SAMPLE: GSM4753120\n",
      "15-Jan-2021 18:05:58 DEBUG GEOparse - SAMPLE: GSM4753121\n",
      "15-Jan-2021 18:05:58 DEBUG GEOparse - SAMPLE: GSM4753122\n",
      "15-Jan-2021 18:05:58 DEBUG GEOparse - SAMPLE: GSM4753123\n",
      "15-Jan-2021 18:05:58 DEBUG GEOparse - SAMPLE: GSM4753124\n",
      "15-Jan-2021 18:05:58 DEBUG GEOparse - SAMPLE: GSM4753125\n",
      "15-Jan-2021 18:05:58 DEBUG GEOparse - SAMPLE: GSM4753126\n",
      "15-Jan-2021 18:05:58 DEBUG GEOparse - SAMPLE: GSM4753127\n",
      "15-Jan-2021 18:05:58 DEBUG GEOparse - SAMPLE: GSM4753128\n",
      "15-Jan-2021 18:05:58 DEBUG GEOparse - SAMPLE: GSM4753129\n",
      "15-Jan-2021 18:05:58 DEBUG GEOparse - SAMPLE: GSM4753130\n",
      "15-Jan-2021 18:05:58 DEBUG GEOparse - SAMPLE: GSM4753131\n",
      "15-Jan-2021 18:05:58 DEBUG GEOparse - SAMPLE: GSM4753132\n",
      "15-Jan-2021 18:05:58 DEBUG GEOparse - SAMPLE: GSM4753133\n",
      "15-Jan-2021 18:05:58 DEBUG GEOparse - SAMPLE: GSM4753134\n",
      "15-Jan-2021 18:05:58 DEBUG GEOparse - SAMPLE: GSM4753135\n",
      "15-Jan-2021 18:05:58 DEBUG GEOparse - SAMPLE: GSM4753136\n",
      "15-Jan-2021 18:05:58 DEBUG GEOparse - SAMPLE: GSM4753137\n",
      "15-Jan-2021 18:05:58 DEBUG GEOparse - SAMPLE: GSM4753138\n",
      "15-Jan-2021 18:05:58 DEBUG GEOparse - SAMPLE: GSM4753139\n",
      "15-Jan-2021 18:05:58 DEBUG GEOparse - SAMPLE: GSM4753140\n",
      "15-Jan-2021 18:05:58 DEBUG GEOparse - SAMPLE: GSM4753141\n",
      "15-Jan-2021 18:05:58 DEBUG GEOparse - SAMPLE: GSM4753142\n",
      "15-Jan-2021 18:05:58 DEBUG GEOparse - SAMPLE: GSM4753143\n",
      "15-Jan-2021 18:05:58 DEBUG GEOparse - SAMPLE: GSM4753144\n",
      "15-Jan-2021 18:05:58 DEBUG GEOparse - SAMPLE: GSM4753145\n",
      "15-Jan-2021 18:05:58 DEBUG GEOparse - SAMPLE: GSM4753146\n"
     ]
    }
   ],
   "source": [
    "#import packages\n",
    "import pandas as pd\n",
    "import numpy as np\n",
    "import matplotlib.pyplot as plt\n",
    "\n",
    "import GEOparse\n",
    "\n",
    "#download and load to the memory the experiment with specific GEO accession\n",
    "gse157103 = GEOparse.get_GEO(\"GSE157103\")\n",
    "metadata = gse157103.phenotype_data"
   ]
  },
  {
   "cell_type": "code",
   "execution_count": 10,
   "metadata": {},
   "outputs": [
    {
     "data": {
      "text/plain": [
       "<matplotlib.axes._subplots.AxesSubplot at 0x18b83c9b708>"
      ]
     },
     "execution_count": 10,
     "metadata": {},
     "output_type": "execute_result"
    },
    {
     "data": {
      "image/png": "[encoded data removed]",
      "text/plain": [
       "<Figure size 432x288 with 1 Axes>"
      ]
     },
     "metadata": {
      "needs_background": "light"
     },
     "output_type": "display_data"
    }
   ],
   "source": [
    "import seaborn as sns\n",
    "\n",
    "metadata['characteristics_ch1.9.hospital-free days post 45 day followup (days)'] = pd.to_numeric(metadata['characteristics_ch1.9.hospital-free days post 45 day followup (days)'],errors='coerce')\n",
    "\n",
    "metadata[\"characteristics_ch1.9.hospital-free days post 45 day followup (days)\"].values\n",
    "sns.histplot(x=\"characteristics_ch1.9.hospital-free days post 45 day followup (days)\", \n",
    "             hue='characteristics_ch1.0.disease state', palette=\"ch:.25\", data=metadata)\n"
   ]
  },
  {
   "cell_type": "code",
   "execution_count": 11,
   "metadata": {},
   "outputs": [
    {
     "name": "stdout",
     "output_type": "stream",
     "text": [
      "Teste à normalidade dos dados:\n",
      "COVID-19 (0.8425031900405884, 6.32884189499805e-09)\n",
      "non-COVID-19 (0.6970590353012085, 4.834085302718449e-06)\n",
      "Rejeita-se H0, uma vez que as amostras não seguem distribuição normal.\n",
      "\n",
      "Teste U de Mann-Whitney\n",
      "MannwhitneyuResult(statistic=791.5, pvalue=0.0009940081528354407)\n",
      "Rejeita-se H0, os dois grupos não têm a mesma mediana.\n"
     ]
    }
   ],
   "source": [
    "from scipy import stats\n",
    "\n",
    "cv = metadata[metadata['characteristics_ch1.0.disease state']=='COVID-19']\n",
    "ncv = metadata[metadata['characteristics_ch1.0.disease state']=='non-COVID-19']\n",
    "\n",
    "cv_hfd = cv['characteristics_ch1.9.hospital-free days post 45 day followup (days)']\n",
    "ncv_hfd = ncv['characteristics_ch1.9.hospital-free days post 45 day followup (days)']\n",
    "\n",
    "print(\"Teste à normalidade dos dados:\")\n",
    "print('COVID-19', stats.shapiro(cv_hfd)) # p-value <0.05 - H0 rejected\n",
    "print('non-COVID-19',  stats.shapiro(ncv_hfd)) # p-value <0.05 - H0 rejected\n",
    "#For alpha level = 0.05:\n",
    "#if p-value < 0.05 - H0 (data are normally distributed) is rejected\n",
    "#if p-value > 0.05 - H0 is not rejected\n",
    "\n",
    "print(\"Rejeita-se H0, uma vez que as amostras não seguem distribuição normal.\\n\") \n",
    "#Será então necessário proceder a testes não paramétricos para testar a mediana das populações.\n",
    "print(\"Teste U de Mann-Whitney\")\n",
    "#teste não paramétrico aplicado para duas amostras independentes\n",
    "\n",
    "print(stats.mannwhitneyu(cv_hfd, ncv_hfd, alternative = 'less'))\n",
    "print(\"Rejeita-se H0, os dois grupos não têm a mesma mediana.\")"
   ]
  },
  {
   "cell_type": "markdown",
   "metadata": {},
   "source": [
    "O valor do score HFD-45 atribuído aos doentes é menor, em mediana, nos casos em que o diagnóstico de COVID-19 é positivo do que nos casos em que este diagnóstico é negativo. Este resultado é consistente com a definição do score, uma vez que scores mais baixos correspondem a situações mais graves de internamento ou morte."
   ]
  },
  {
   "cell_type": "markdown",
   "metadata": {},
   "source": [
    "#### SCORES Charlson comorbidity index, APACHEII e SOFA"
   ]
  },
  {
   "cell_type": "code",
   "execution_count": 12,
   "metadata": {},
   "outputs": [
    {
     "name": "stderr",
     "output_type": "stream",
     "text": [
      "15-Jan-2021 18:06:03 DEBUG utils - Directory ./ already exists. Skipping.\n",
      "15-Jan-2021 18:06:03 INFO GEOparse - File already exist: using local version.\n",
      "15-Jan-2021 18:06:03 INFO GEOparse - Parsing ./GSE157103_family.soft.gz: \n",
      "15-Jan-2021 18:06:03 DEBUG GEOparse - DATABASE: GeoMiame\n",
      "15-Jan-2021 18:06:03 DEBUG GEOparse - SERIES: GSE157103\n",
      "15-Jan-2021 18:06:03 DEBUG GEOparse - PLATFORM: GPL24676\n",
      "15-Jan-2021 18:06:03 DEBUG GEOparse - SAMPLE: GSM4753021\n",
      "15-Jan-2021 18:06:03 DEBUG GEOparse - SAMPLE: GSM4753022\n",
      "15-Jan-2021 18:06:03 DEBUG GEOparse - SAMPLE: GSM4753023\n",
      "15-Jan-2021 18:06:03 DEBUG GEOparse - SAMPLE: GSM4753024\n",
      "15-Jan-2021 18:06:03 DEBUG GEOparse - SAMPLE: GSM4753025\n",
      "15-Jan-2021 18:06:03 DEBUG GEOparse - SAMPLE: GSM4753026\n",
      "15-Jan-2021 18:06:03 DEBUG GEOparse - SAMPLE: GSM4753027\n",
      "15-Jan-2021 18:06:03 DEBUG GEOparse - SAMPLE: GSM4753028\n",
      "15-Jan-2021 18:06:03 DEBUG GEOparse - SAMPLE: GSM4753029\n",
      "15-Jan-2021 18:06:03 DEBUG GEOparse - SAMPLE: GSM4753030\n",
      "15-Jan-2021 18:06:04 DEBUG GEOparse - SAMPLE: GSM4753031\n",
      "15-Jan-2021 18:06:04 DEBUG GEOparse - SAMPLE: GSM4753032\n",
      "15-Jan-2021 18:06:04 DEBUG GEOparse - SAMPLE: GSM4753033\n",
      "15-Jan-2021 18:06:04 DEBUG GEOparse - SAMPLE: GSM4753034\n",
      "15-Jan-2021 18:06:04 DEBUG GEOparse - SAMPLE: GSM4753035\n",
      "15-Jan-2021 18:06:04 DEBUG GEOparse - SAMPLE: GSM4753036\n",
      "15-Jan-2021 18:06:04 DEBUG GEOparse - SAMPLE: GSM4753037\n",
      "15-Jan-2021 18:06:04 DEBUG GEOparse - SAMPLE: GSM4753038\n",
      "15-Jan-2021 18:06:04 DEBUG GEOparse - SAMPLE: GSM4753039\n",
      "15-Jan-2021 18:06:04 DEBUG GEOparse - SAMPLE: GSM4753040\n",
      "15-Jan-2021 18:06:04 DEBUG GEOparse - SAMPLE: GSM4753041\n",
      "15-Jan-2021 18:06:04 DEBUG GEOparse - SAMPLE: GSM4753042\n",
      "15-Jan-2021 18:06:04 DEBUG GEOparse - SAMPLE: GSM4753043\n",
      "15-Jan-2021 18:06:04 DEBUG GEOparse - SAMPLE: GSM4753044\n",
      "15-Jan-2021 18:06:04 DEBUG GEOparse - SAMPLE: GSM4753045\n",
      "15-Jan-2021 18:06:04 DEBUG GEOparse - SAMPLE: GSM4753046\n",
      "15-Jan-2021 18:06:04 DEBUG GEOparse - SAMPLE: GSM4753047\n",
      "15-Jan-2021 18:06:04 DEBUG GEOparse - SAMPLE: GSM4753048\n",
      "15-Jan-2021 18:06:04 DEBUG GEOparse - SAMPLE: GSM4753049\n",
      "15-Jan-2021 18:06:04 DEBUG GEOparse - SAMPLE: GSM4753050\n",
      "15-Jan-2021 18:06:04 DEBUG GEOparse - SAMPLE: GSM4753051\n",
      "15-Jan-2021 18:06:04 DEBUG GEOparse - SAMPLE: GSM4753052\n",
      "15-Jan-2021 18:06:04 DEBUG GEOparse - SAMPLE: GSM4753053\n",
      "15-Jan-2021 18:06:04 DEBUG GEOparse - SAMPLE: GSM4753054\n",
      "15-Jan-2021 18:06:04 DEBUG GEOparse - SAMPLE: GSM4753055\n",
      "15-Jan-2021 18:06:04 DEBUG GEOparse - SAMPLE: GSM4753056\n",
      "15-Jan-2021 18:06:04 DEBUG GEOparse - SAMPLE: GSM4753057\n",
      "15-Jan-2021 18:06:04 DEBUG GEOparse - SAMPLE: GSM4753058\n",
      "15-Jan-2021 18:06:04 DEBUG GEOparse - SAMPLE: GSM4753059\n",
      "15-Jan-2021 18:06:04 DEBUG GEOparse - SAMPLE: GSM4753060\n",
      "15-Jan-2021 18:06:04 DEBUG GEOparse - SAMPLE: GSM4753061\n",
      "15-Jan-2021 18:06:04 DEBUG GEOparse - SAMPLE: GSM4753062\n",
      "15-Jan-2021 18:06:04 DEBUG GEOparse - SAMPLE: GSM4753063\n",
      "15-Jan-2021 18:06:04 DEBUG GEOparse - SAMPLE: GSM4753064\n",
      "15-Jan-2021 18:06:04 DEBUG GEOparse - SAMPLE: GSM4753065\n",
      "15-Jan-2021 18:06:04 DEBUG GEOparse - SAMPLE: GSM4753066\n",
      "15-Jan-2021 18:06:04 DEBUG GEOparse - SAMPLE: GSM4753067\n",
      "15-Jan-2021 18:06:04 DEBUG GEOparse - SAMPLE: GSM4753068\n",
      "15-Jan-2021 18:06:04 DEBUG GEOparse - SAMPLE: GSM4753069\n",
      "15-Jan-2021 18:06:04 DEBUG GEOparse - SAMPLE: GSM4753070\n",
      "15-Jan-2021 18:06:04 DEBUG GEOparse - SAMPLE: GSM4753071\n",
      "15-Jan-2021 18:06:04 DEBUG GEOparse - SAMPLE: GSM4753072\n",
      "15-Jan-2021 18:06:04 DEBUG GEOparse - SAMPLE: GSM4753073\n",
      "15-Jan-2021 18:06:04 DEBUG GEOparse - SAMPLE: GSM4753074\n",
      "15-Jan-2021 18:06:04 DEBUG GEOparse - SAMPLE: GSM4753075\n",
      "15-Jan-2021 18:06:04 DEBUG GEOparse - SAMPLE: GSM4753076\n",
      "15-Jan-2021 18:06:04 DEBUG GEOparse - SAMPLE: GSM4753077\n",
      "15-Jan-2021 18:06:04 DEBUG GEOparse - SAMPLE: GSM4753078\n",
      "15-Jan-2021 18:06:04 DEBUG GEOparse - SAMPLE: GSM4753079\n",
      "15-Jan-2021 18:06:04 DEBUG GEOparse - SAMPLE: GSM4753080\n",
      "15-Jan-2021 18:06:04 DEBUG GEOparse - SAMPLE: GSM4753081\n",
      "15-Jan-2021 18:06:04 DEBUG GEOparse - SAMPLE: GSM4753082\n",
      "15-Jan-2021 18:06:04 DEBUG GEOparse - SAMPLE: GSM4753083\n",
      "15-Jan-2021 18:06:04 DEBUG GEOparse - SAMPLE: GSM4753084\n",
      "15-Jan-2021 18:06:04 DEBUG GEOparse - SAMPLE: GSM4753085\n",
      "15-Jan-2021 18:06:04 DEBUG GEOparse - SAMPLE: GSM4753086\n",
      "15-Jan-2021 18:06:04 DEBUG GEOparse - SAMPLE: GSM4753087\n",
      "15-Jan-2021 18:06:04 DEBUG GEOparse - SAMPLE: GSM4753088\n",
      "15-Jan-2021 18:06:04 DEBUG GEOparse - SAMPLE: GSM4753089\n",
      "15-Jan-2021 18:06:04 DEBUG GEOparse - SAMPLE: GSM4753090\n",
      "15-Jan-2021 18:06:05 DEBUG GEOparse - SAMPLE: GSM4753091\n",
      "15-Jan-2021 18:06:05 DEBUG GEOparse - SAMPLE: GSM4753092\n",
      "15-Jan-2021 18:06:05 DEBUG GEOparse - SAMPLE: GSM4753093\n",
      "15-Jan-2021 18:06:05 DEBUG GEOparse - SAMPLE: GSM4753094\n",
      "15-Jan-2021 18:06:05 DEBUG GEOparse - SAMPLE: GSM4753095\n",
      "15-Jan-2021 18:06:05 DEBUG GEOparse - SAMPLE: GSM4753096\n",
      "15-Jan-2021 18:06:05 DEBUG GEOparse - SAMPLE: GSM4753097\n",
      "15-Jan-2021 18:06:05 DEBUG GEOparse - SAMPLE: GSM4753098\n",
      "15-Jan-2021 18:06:05 DEBUG GEOparse - SAMPLE: GSM4753099\n",
      "15-Jan-2021 18:06:05 DEBUG GEOparse - SAMPLE: GSM4753100\n",
      "15-Jan-2021 18:06:05 DEBUG GEOparse - SAMPLE: GSM4753101\n",
      "15-Jan-2021 18:06:05 DEBUG GEOparse - SAMPLE: GSM4753102\n",
      "15-Jan-2021 18:06:05 DEBUG GEOparse - SAMPLE: GSM4753103\n",
      "15-Jan-2021 18:06:05 DEBUG GEOparse - SAMPLE: GSM4753104\n",
      "15-Jan-2021 18:06:05 DEBUG GEOparse - SAMPLE: GSM4753105\n",
      "15-Jan-2021 18:06:05 DEBUG GEOparse - SAMPLE: GSM4753106\n",
      "15-Jan-2021 18:06:05 DEBUG GEOparse - SAMPLE: GSM4753107\n",
      "15-Jan-2021 18:06:05 DEBUG GEOparse - SAMPLE: GSM4753108\n",
      "15-Jan-2021 18:06:05 DEBUG GEOparse - SAMPLE: GSM4753109\n",
      "15-Jan-2021 18:06:05 DEBUG GEOparse - SAMPLE: GSM4753110\n",
      "15-Jan-2021 18:06:05 DEBUG GEOparse - SAMPLE: GSM4753111\n",
      "15-Jan-2021 18:06:05 DEBUG GEOparse - SAMPLE: GSM4753112\n",
      "15-Jan-2021 18:06:05 DEBUG GEOparse - SAMPLE: GSM4753113\n",
      "15-Jan-2021 18:06:05 DEBUG GEOparse - SAMPLE: GSM4753114\n",
      "15-Jan-2021 18:06:05 DEBUG GEOparse - SAMPLE: GSM4753115\n",
      "15-Jan-2021 18:06:05 DEBUG GEOparse - SAMPLE: GSM4753116\n",
      "15-Jan-2021 18:06:05 DEBUG GEOparse - SAMPLE: GSM4753117\n",
      "15-Jan-2021 18:06:05 DEBUG GEOparse - SAMPLE: GSM4753118\n",
      "15-Jan-2021 18:06:05 DEBUG GEOparse - SAMPLE: GSM4753119\n",
      "15-Jan-2021 18:06:05 DEBUG GEOparse - SAMPLE: GSM4753120\n",
      "15-Jan-2021 18:06:05 DEBUG GEOparse - SAMPLE: GSM4753121\n",
      "15-Jan-2021 18:06:05 DEBUG GEOparse - SAMPLE: GSM4753122\n",
      "15-Jan-2021 18:06:05 DEBUG GEOparse - SAMPLE: GSM4753123\n",
      "15-Jan-2021 18:06:05 DEBUG GEOparse - SAMPLE: GSM4753124\n",
      "15-Jan-2021 18:06:05 DEBUG GEOparse - SAMPLE: GSM4753125\n",
      "15-Jan-2021 18:06:05 DEBUG GEOparse - SAMPLE: GSM4753126\n",
      "15-Jan-2021 18:06:05 DEBUG GEOparse - SAMPLE: GSM4753127\n",
      "15-Jan-2021 18:06:05 DEBUG GEOparse - SAMPLE: GSM4753128\n",
      "15-Jan-2021 18:06:05 DEBUG GEOparse - SAMPLE: GSM4753129\n",
      "15-Jan-2021 18:06:05 DEBUG GEOparse - SAMPLE: GSM4753130\n",
      "15-Jan-2021 18:06:05 DEBUG GEOparse - SAMPLE: GSM4753131\n",
      "15-Jan-2021 18:06:05 DEBUG GEOparse - SAMPLE: GSM4753132\n",
      "15-Jan-2021 18:06:05 DEBUG GEOparse - SAMPLE: GSM4753133\n",
      "15-Jan-2021 18:06:05 DEBUG GEOparse - SAMPLE: GSM4753134\n",
      "15-Jan-2021 18:06:05 DEBUG GEOparse - SAMPLE: GSM4753135\n",
      "15-Jan-2021 18:06:05 DEBUG GEOparse - SAMPLE: GSM4753136\n",
      "15-Jan-2021 18:06:05 DEBUG GEOparse - SAMPLE: GSM4753137\n",
      "15-Jan-2021 18:06:06 DEBUG GEOparse - SAMPLE: GSM4753138\n",
      "15-Jan-2021 18:06:06 DEBUG GEOparse - SAMPLE: GSM4753139\n",
      "15-Jan-2021 18:06:06 DEBUG GEOparse - SAMPLE: GSM4753140\n",
      "15-Jan-2021 18:06:06 DEBUG GEOparse - SAMPLE: GSM4753141\n",
      "15-Jan-2021 18:06:06 DEBUG GEOparse - SAMPLE: GSM4753142\n",
      "15-Jan-2021 18:06:06 DEBUG GEOparse - SAMPLE: GSM4753143\n",
      "15-Jan-2021 18:06:06 DEBUG GEOparse - SAMPLE: GSM4753144\n",
      "15-Jan-2021 18:06:06 DEBUG GEOparse - SAMPLE: GSM4753145\n",
      "15-Jan-2021 18:06:06 DEBUG GEOparse - SAMPLE: GSM4753146\n"
     ]
    }
   ],
   "source": [
    "gse157103 = GEOparse.get_GEO(\"GSE157103\")\n",
    "metadata = gse157103.phenotype_data"
   ]
  },
  {
   "cell_type": "code",
   "execution_count": 13,
   "metadata": {},
   "outputs": [
    {
     "data": {
      "text/html": [
       "<div>\n",
       "<style scoped>\n",
       "    .dataframe tbody tr th:only-of-type {\n",
       "        vertical-align: middle;\n",
       "    }\n",
       "\n",
       "    .dataframe tbody tr th {\n",
       "        vertical-align: top;\n",
       "    }\n",
       "\n",
       "    .dataframe thead th {\n",
       "        text-align: right;\n",
       "    }\n",
       "</style>\n",
       "<table border=\"1\" class=\"dataframe\">\n",
       "  <thead>\n",
       "    <tr style=\"text-align: right;\">\n",
       "      <th></th>\n",
       "      <th>characteristics_ch1.4.apacheii</th>\n",
       "      <th>characteristics_ch1.5.charlson score</th>\n",
       "      <th>characteristics_ch1.16.sofa</th>\n",
       "    </tr>\n",
       "  </thead>\n",
       "  <tbody>\n",
       "    <tr>\n",
       "      <th>GSM4753021</th>\n",
       "      <td>15</td>\n",
       "      <td>0</td>\n",
       "      <td>8</td>\n",
       "    </tr>\n",
       "    <tr>\n",
       "      <th>GSM4753022</th>\n",
       "      <td>unknown</td>\n",
       "      <td>2</td>\n",
       "      <td>unknown</td>\n",
       "    </tr>\n",
       "    <tr>\n",
       "      <th>GSM4753023</th>\n",
       "      <td>unknown</td>\n",
       "      <td>2</td>\n",
       "      <td>unknown</td>\n",
       "    </tr>\n",
       "    <tr>\n",
       "      <th>GSM4753024</th>\n",
       "      <td>unknown</td>\n",
       "      <td>1</td>\n",
       "      <td>unknown</td>\n",
       "    </tr>\n",
       "    <tr>\n",
       "      <th>GSM4753025</th>\n",
       "      <td>19</td>\n",
       "      <td>1</td>\n",
       "      <td>7</td>\n",
       "    </tr>\n",
       "    <tr>\n",
       "      <th>GSM4753026</th>\n",
       "      <td>unknown</td>\n",
       "      <td>1</td>\n",
       "      <td>unknown</td>\n",
       "    </tr>\n",
       "    <tr>\n",
       "      <th>GSM4753027</th>\n",
       "      <td>unknown</td>\n",
       "      <td>7</td>\n",
       "      <td>unknown</td>\n",
       "    </tr>\n",
       "    <tr>\n",
       "      <th>GSM4753028</th>\n",
       "      <td>43</td>\n",
       "      <td>7</td>\n",
       "      <td>16</td>\n",
       "    </tr>\n",
       "    <tr>\n",
       "      <th>GSM4753029</th>\n",
       "      <td>31</td>\n",
       "      <td>2</td>\n",
       "      <td>12</td>\n",
       "    </tr>\n",
       "    <tr>\n",
       "      <th>GSM4753030</th>\n",
       "      <td>34</td>\n",
       "      <td>1</td>\n",
       "      <td>15</td>\n",
       "    </tr>\n",
       "    <tr>\n",
       "      <th>GSM4753031</th>\n",
       "      <td>unknown</td>\n",
       "      <td>2</td>\n",
       "      <td>unknown</td>\n",
       "    </tr>\n",
       "    <tr>\n",
       "      <th>GSM4753032</th>\n",
       "      <td>27</td>\n",
       "      <td>1</td>\n",
       "      <td>10</td>\n",
       "    </tr>\n",
       "    <tr>\n",
       "      <th>GSM4753033</th>\n",
       "      <td>unknown</td>\n",
       "      <td>0</td>\n",
       "      <td>unknown</td>\n",
       "    </tr>\n",
       "    <tr>\n",
       "      <th>GSM4753034</th>\n",
       "      <td>23</td>\n",
       "      <td>1</td>\n",
       "      <td>7</td>\n",
       "    </tr>\n",
       "    <tr>\n",
       "      <th>GSM4753035</th>\n",
       "      <td>27</td>\n",
       "      <td>11</td>\n",
       "      <td>12</td>\n",
       "    </tr>\n",
       "  </tbody>\n",
       "</table>\n",
       "</div>"
      ],
      "text/plain": [
       "           characteristics_ch1.4.apacheii  \\\n",
       "GSM4753021                             15   \n",
       "GSM4753022                        unknown   \n",
       "GSM4753023                        unknown   \n",
       "GSM4753024                        unknown   \n",
       "GSM4753025                             19   \n",
       "GSM4753026                        unknown   \n",
       "GSM4753027                        unknown   \n",
       "GSM4753028                             43   \n",
       "GSM4753029                             31   \n",
       "GSM4753030                             34   \n",
       "GSM4753031                        unknown   \n",
       "GSM4753032                             27   \n",
       "GSM4753033                        unknown   \n",
       "GSM4753034                             23   \n",
       "GSM4753035                             27   \n",
       "\n",
       "           characteristics_ch1.5.charlson score characteristics_ch1.16.sofa  \n",
       "GSM4753021                                    0                           8  \n",
       "GSM4753022                                    2                     unknown  \n",
       "GSM4753023                                    2                     unknown  \n",
       "GSM4753024                                    1                     unknown  \n",
       "GSM4753025                                    1                           7  \n",
       "GSM4753026                                    1                     unknown  \n",
       "GSM4753027                                    7                     unknown  \n",
       "GSM4753028                                    7                          16  \n",
       "GSM4753029                                    2                          12  \n",
       "GSM4753030                                    1                          15  \n",
       "GSM4753031                                    2                     unknown  \n",
       "GSM4753032                                    1                          10  \n",
       "GSM4753033                                    0                     unknown  \n",
       "GSM4753034                                    1                           7  \n",
       "GSM4753035                                   11                          12  "
      ]
     },
     "execution_count": 13,
     "metadata": {},
     "output_type": "execute_result"
    }
   ],
   "source": [
    "#create a new dataframe\n",
    "scores = metadata[['characteristics_ch1.4.apacheii', 'characteristics_ch1.5.charlson score','characteristics_ch1.16.sofa' ]]\n",
    "scores.head(15)"
   ]
  },
  {
   "cell_type": "code",
   "execution_count": 14,
   "metadata": {
    "scrolled": false
   },
   "outputs": [],
   "source": [
    "scores.values;"
   ]
  },
  {
   "cell_type": "markdown",
   "metadata": {},
   "source": [
    "Values are strings."
   ]
  },
  {
   "cell_type": "code",
   "execution_count": 15,
   "metadata": {},
   "outputs": [
    {
     "name": "stdout",
     "output_type": "stream",
     "text": [
      "characteristics_ch1.4.apacheii \n",
      "\n",
      "characteristics_ch1.3.icu                   no     yes\n",
      "characteristics_ch1.0.disease state                   \n",
      "COVID-19                             19.714286  21.580\n",
      "non-COVID-19                          4.000000  20.625\n"
     ]
    },
    {
     "data": {
      "image/png": "[encoded data removed]",
      "text/plain": [
       "<Figure size 432x288 with 1 Axes>"
      ]
     },
     "metadata": {
      "needs_background": "light"
     },
     "output_type": "display_data"
    },
    {
     "name": "stdout",
     "output_type": "stream",
     "text": [
      "characteristics_ch1.5.charlson score \n",
      "\n",
      "characteristics_ch1.3.icu              no   yes\n",
      "characteristics_ch1.0.disease state            \n",
      "COVID-19                             3.12  3.44\n",
      "non-COVID-19                         3.30  5.00\n"
     ]
    },
    {
     "data": {
      "image/png": "[encoded data removed]",
      "text/plain": [
       "<Figure size 432x288 with 1 Axes>"
      ]
     },
     "metadata": {
      "needs_background": "light"
     },
     "output_type": "display_data"
    },
    {
     "name": "stdout",
     "output_type": "stream",
     "text": [
      "characteristics_ch1.16.sofa \n",
      "\n",
      "characteristics_ch1.3.icu             no     yes\n",
      "characteristics_ch1.0.disease state             \n",
      "COVID-19                             6.5  8.3000\n",
      "non-COVID-19                         1.0  8.5625\n"
     ]
    },
    {
     "data": {
      "image/png": "[encoded data removed]",
      "text/plain": [
       "<Figure size 432x288 with 1 Axes>"
      ]
     },
     "metadata": {
      "needs_background": "light"
     },
     "output_type": "display_data"
    }
   ],
   "source": [
    "#Convert String numbers to Integer in Pandas DataFrame\n",
    "scores = metadata[['characteristics_ch1.4.apacheii', 'characteristics_ch1.5.charlson score','characteristics_ch1.16.sofa' ]]\n",
    "for score in scores:\n",
    "       \n",
    "    metadata[score] = pd.to_numeric(metadata[score],errors='coerce')\n",
    "    \n",
    "    #cv = metadata[metadata['characteristics_ch1.0.disease state']=='COVID-19']\n",
    "    #print(cv)\n",
    "    #cv_scores_describe = cv[score].describe()\n",
    "    #print('COVID-19 \\n', cv_scores_describe)\n",
    "\n",
    "    #ncv = metadata[metadata['characteristics_ch1.0.disease state']=='non-COVID-19']\n",
    "    #ncv_scores_describe = ncv[score].describe()\n",
    "    #print('non-COVID-19 \\n', ncv_scores_describe)\n",
    "    \n",
    "    \n",
    "    table=pd.pivot_table(metadata,values = score,index=[\"characteristics_ch1.0.disease state\"],columns=['characteristics_ch1.3.icu'],aggfunc=np.mean)\n",
    "    print(score, \"\\n\")\n",
    "    print(table)\n",
    "    table.plot(kind='bar')\n",
    "    plt.legend()\n",
    "    plt.show()\n",
    "    "
   ]
  },
  {
   "cell_type": "markdown",
   "metadata": {},
   "source": [
    "Análise das diferenças entre os grupos COVID-19 e não-COVID-19 em IUC para os diferentes scores:"
   ]
  },
  {
   "cell_type": "code",
   "execution_count": 16,
   "metadata": {},
   "outputs": [
    {
     "name": "stdout",
     "output_type": "stream",
     "text": [
      "Teste à normalidade dos dados:\n",
      "COVID-19 / characteristics_ch1.4.apacheii (0.9830883741378784, 0.687343418598175)\n",
      "non-COVID-19 / characteristics_ch1.4.apacheii (0.92143315076828, 0.177878737449646) \n",
      "\n",
      "Teste à normalidade dos dados:\n",
      "COVID-19 / characteristics_ch1.5.charlson score (0.8693323731422424, 5.393660831032321e-05)\n",
      "non-COVID-19 / characteristics_ch1.5.charlson score (0.9138711094856262, 0.13436259329319) \n",
      "\n",
      "Teste à normalidade dos dados:\n",
      "COVID-19 / characteristics_ch1.16.sofa (0.9536594152450562, 0.04831695556640625)\n",
      "non-COVID-19 / characteristics_ch1.16.sofa (0.9044427871704102, 0.09470410645008087) \n",
      "\n"
     ]
    }
   ],
   "source": [
    "cv = metadata[metadata['characteristics_ch1.0.disease state']=='COVID-19']\n",
    "ncv = metadata[metadata['characteristics_ch1.0.disease state']=='non-COVID-19']\n",
    "\n",
    "cv_iuc = cv[cv[\"characteristics_ch1.3.icu\"]==\"yes\"]\n",
    "ncv_iuc = ncv[ncv[\"characteristics_ch1.3.icu\"]==\"yes\"]\n",
    "\n",
    "for score in scores:\n",
    "    cv_iuc_score = cv_iuc[score]\n",
    "    ncv_iuc_score = ncv_iuc[score]\n",
    "\n",
    "    print(\"Teste à normalidade dos dados:\")\n",
    "    print('COVID-19 /', score, stats.shapiro(cv_iuc_score))\n",
    "    print('non-COVID-19 /', score, stats.shapiro(ncv_iuc_score),\"\\n\")"
   ]
  },
  {
   "cell_type": "markdown",
   "metadata": {},
   "source": [
    "Os grupos referentes ao score APACHEII seguem uma distribuição normal.\n",
    "Os grupos referentes ao score Charlson e SOFA não seguem a mesma distribuição."
   ]
  },
  {
   "cell_type": "code",
   "execution_count": 17,
   "metadata": {},
   "outputs": [
    {
     "name": "stdout",
     "output_type": "stream",
     "text": [
      "Teste U de Mann-Whitney\n",
      "MannwhitneyuResult(statistic=227.0, pvalue=0.004494960710277233) characteristics_ch1.5.charlson score\n",
      "MannwhitneyuResult(statistic=365.0, pvalue=0.3022069285035096) characteristics_ch1.16.sofa\n",
      "ttest\n",
      "Ttest_indResult(statistic=-0.22080066654865027, pvalue=0.8259505410977093) characteristics_ch1.4.apacheii\n"
     ]
    }
   ],
   "source": [
    "print(\"Teste U de Mann-Whitney\")\n",
    "\n",
    "scores_normal = ['characteristics_ch1.4.apacheii']\n",
    "scores_not_normal = ['characteristics_ch1.5.charlson score', 'characteristics_ch1.16.sofa']\n",
    "\n",
    "for score in scores_not_normal:\n",
    "    cv_iuc_score = cv_iuc[score]\n",
    "    ncv_iuc_score = ncv_iuc[score]\n",
    "\n",
    "    print(stats.mannwhitneyu(cv_iuc_score, ncv_iuc_score), score)\n",
    "#print(\"p-value > 0.05. Não se rejeita H0, os grupos têm a mesma mediana.\\n\")\n",
    "\n",
    "print(\"ttest\")\n",
    "for score in scores_normal:\n",
    "    print(stats.ttest_ind(cv_iuc_score, ncv_iuc_score), score)\n",
    "#print(\"p-value > 0.05. Não se rejeita H0, os grupos têm a mesma média.\")"
   ]
  },
  {
   "cell_type": "markdown",
   "metadata": {},
   "source": [
    "Verificou-se que os scores APACHEII e SOFA usados na avaliação da severidade de doença crítica, como a falha sequencial de orgãos, no grupo de doentes em unidade de cuidados intensivos, exibem métricas semelantes quando comparamos, doentes com diagnóstico COVID-19 e doentes sem este diagnóstico. O mesmo não se observa para o score Charlson em que existe uma diferença significativa entre os grupos COVID-19 e não COVID-19."
   ]
  },
  {
   "cell_type": "markdown",
   "metadata": {},
   "source": [
    "### Biomarkers"
   ]
  },
  {
   "cell_type": "code",
   "execution_count": 18,
   "metadata": {},
   "outputs": [
    {
     "data": {
      "text/html": [
       "<div>\n",
       "<style scoped>\n",
       "    .dataframe tbody tr th:only-of-type {\n",
       "        vertical-align: middle;\n",
       "    }\n",
       "\n",
       "    .dataframe tbody tr th {\n",
       "        vertical-align: top;\n",
       "    }\n",
       "\n",
       "    .dataframe thead th {\n",
       "        text-align: right;\n",
       "    }\n",
       "</style>\n",
       "<table border=\"1\" class=\"dataframe\">\n",
       "  <thead>\n",
       "    <tr style=\"text-align: right;\">\n",
       "      <th></th>\n",
       "      <th>characteristics_ch1.10.ferritin (ng/ml)</th>\n",
       "      <th>characteristics_ch1.11.crp (mg/l)</th>\n",
       "      <th>characteristics_ch1.12.ddimer (mg/l_feu)</th>\n",
       "      <th>characteristics_ch1.13.procalcitonin (ng/ml)</th>\n",
       "      <th>characteristics_ch1.14.lactate (mmol/l)</th>\n",
       "      <th>characteristics_ch1.15.fibrinogen</th>\n",
       "    </tr>\n",
       "  </thead>\n",
       "  <tbody>\n",
       "    <tr>\n",
       "      <th>GSM4753021</th>\n",
       "      <td>946</td>\n",
       "      <td>73.1</td>\n",
       "      <td>1.3</td>\n",
       "      <td>36</td>\n",
       "      <td>0.9</td>\n",
       "      <td>513</td>\n",
       "    </tr>\n",
       "    <tr>\n",
       "      <th>GSM4753022</th>\n",
       "      <td>1060</td>\n",
       "      <td>unknown</td>\n",
       "      <td>1.03</td>\n",
       "      <td>0.37</td>\n",
       "      <td>unknown</td>\n",
       "      <td>unknown</td>\n",
       "    </tr>\n",
       "    <tr>\n",
       "      <th>GSM4753023</th>\n",
       "      <td>1335</td>\n",
       "      <td>53.2</td>\n",
       "      <td>1.48</td>\n",
       "      <td>0.07</td>\n",
       "      <td>unknown</td>\n",
       "      <td>513</td>\n",
       "    </tr>\n",
       "    <tr>\n",
       "      <th>GSM4753024</th>\n",
       "      <td>583</td>\n",
       "      <td>251.1</td>\n",
       "      <td>1.32</td>\n",
       "      <td>0.98</td>\n",
       "      <td>0.87</td>\n",
       "      <td>949</td>\n",
       "    </tr>\n",
       "    <tr>\n",
       "      <th>GSM4753025</th>\n",
       "      <td>800</td>\n",
       "      <td>355.8</td>\n",
       "      <td>0.69</td>\n",
       "      <td>4.92</td>\n",
       "      <td>1.48</td>\n",
       "      <td>929</td>\n",
       "    </tr>\n",
       "  </tbody>\n",
       "</table>\n",
       "</div>"
      ],
      "text/plain": [
       "           characteristics_ch1.10.ferritin (ng/ml)  \\\n",
       "GSM4753021                                     946   \n",
       "GSM4753022                                    1060   \n",
       "GSM4753023                                    1335   \n",
       "GSM4753024                                     583   \n",
       "GSM4753025                                     800   \n",
       "\n",
       "           characteristics_ch1.11.crp (mg/l)  \\\n",
       "GSM4753021                              73.1   \n",
       "GSM4753022                           unknown   \n",
       "GSM4753023                              53.2   \n",
       "GSM4753024                             251.1   \n",
       "GSM4753025                             355.8   \n",
       "\n",
       "           characteristics_ch1.12.ddimer (mg/l_feu)  \\\n",
       "GSM4753021                                      1.3   \n",
       "GSM4753022                                     1.03   \n",
       "GSM4753023                                     1.48   \n",
       "GSM4753024                                     1.32   \n",
       "GSM4753025                                     0.69   \n",
       "\n",
       "           characteristics_ch1.13.procalcitonin (ng/ml)  \\\n",
       "GSM4753021                                           36   \n",
       "GSM4753022                                         0.37   \n",
       "GSM4753023                                         0.07   \n",
       "GSM4753024                                         0.98   \n",
       "GSM4753025                                         4.92   \n",
       "\n",
       "           characteristics_ch1.14.lactate (mmol/l)  \\\n",
       "GSM4753021                                     0.9   \n",
       "GSM4753022                                 unknown   \n",
       "GSM4753023                                 unknown   \n",
       "GSM4753024                                    0.87   \n",
       "GSM4753025                                    1.48   \n",
       "\n",
       "           characteristics_ch1.15.fibrinogen  \n",
       "GSM4753021                               513  \n",
       "GSM4753022                           unknown  \n",
       "GSM4753023                               513  \n",
       "GSM4753024                               949  \n",
       "GSM4753025                               929  "
      ]
     },
     "execution_count": 18,
     "metadata": {},
     "output_type": "execute_result"
    }
   ],
   "source": [
    "#create a new dataframe with biomarker values\n",
    "biomarkers=metadata[['characteristics_ch1.10.ferritin (ng/ml)','characteristics_ch1.11.crp (mg/l)','characteristics_ch1.12.ddimer (mg/l_feu)','characteristics_ch1.13.procalcitonin (ng/ml)','characteristics_ch1.14.lactate (mmol/l)','characteristics_ch1.15.fibrinogen']]\n",
    "biomarkers.head(5)"
   ]
  },
  {
   "cell_type": "code",
   "execution_count": 19,
   "metadata": {},
   "outputs": [],
   "source": [
    "biomarkers.values;"
   ]
  },
  {
   "cell_type": "markdown",
   "metadata": {},
   "source": [
    "Numbers are strings!"
   ]
  },
  {
   "cell_type": "code",
   "execution_count": 20,
   "metadata": {},
   "outputs": [
    {
     "name": "stderr",
     "output_type": "stream",
     "text": [
      "C:\\Users\\Joana\\anaconda3\\lib\\site-packages\\ipykernel_launcher.py:5: SettingWithCopyWarning: \n",
      "A value is trying to be set on a copy of a slice from a DataFrame.\n",
      "Try using .loc[row_indexer,col_indexer] = value instead\n",
      "\n",
      "See the caveats in the documentation: https://pandas.pydata.org/pandas-docs/stable/user_guide/indexing.html#returning-a-view-versus-a-copy\n",
      "  \"\"\"\n"
     ]
    }
   ],
   "source": [
    "#Convert String numbers to Integer in Pandas DataFrame\n",
    "bio=[]\n",
    "for col in biomarkers:\n",
    "    #print(col)\n",
    "    biomarkers[col] = pd.to_numeric(biomarkers[col],errors='coerce')\n",
    "    bio.append(biomarkers[col])\n",
    "#print(bio)"
   ]
  },
  {
   "cell_type": "code",
   "execution_count": 21,
   "metadata": {},
   "outputs": [
    {
     "data": {
      "text/plain": [
       "characteristics_ch1.10.ferritin (ng/ml)         110\n",
       "characteristics_ch1.11.crp (mg/l)               107\n",
       "characteristics_ch1.12.ddimer (mg/l_feu)        100\n",
       "characteristics_ch1.13.procalcitonin (ng/ml)    102\n",
       "characteristics_ch1.14.lactate (mmol/l)          85\n",
       "characteristics_ch1.15.fibrinogen                93\n",
       "dtype: int64"
      ]
     },
     "execution_count": 21,
     "metadata": {},
     "output_type": "execute_result"
    }
   ],
   "source": [
    "biomarkers.count()"
   ]
  },
  {
   "cell_type": "code",
   "execution_count": 22,
   "metadata": {},
   "outputs": [
    {
     "data": {
      "text/html": [
       "<div>\n",
       "<style scoped>\n",
       "    .dataframe tbody tr th:only-of-type {\n",
       "        vertical-align: middle;\n",
       "    }\n",
       "\n",
       "    .dataframe tbody tr th {\n",
       "        vertical-align: top;\n",
       "    }\n",
       "\n",
       "    .dataframe thead th {\n",
       "        text-align: right;\n",
       "    }\n",
       "</style>\n",
       "<table border=\"1\" class=\"dataframe\">\n",
       "  <thead>\n",
       "    <tr style=\"text-align: right;\">\n",
       "      <th></th>\n",
       "      <th>characteristics_ch1.10.ferritin (ng/ml)</th>\n",
       "      <th>characteristics_ch1.11.crp (mg/l)</th>\n",
       "      <th>characteristics_ch1.12.ddimer (mg/l_feu)</th>\n",
       "      <th>characteristics_ch1.13.procalcitonin (ng/ml)</th>\n",
       "      <th>characteristics_ch1.14.lactate (mmol/l)</th>\n",
       "      <th>characteristics_ch1.15.fibrinogen</th>\n",
       "    </tr>\n",
       "  </thead>\n",
       "  <tbody>\n",
       "    <tr>\n",
       "      <th>count</th>\n",
       "      <td>110.000000</td>\n",
       "      <td>107.000000</td>\n",
       "      <td>100.000000</td>\n",
       "      <td>102.000000</td>\n",
       "      <td>85.000000</td>\n",
       "      <td>93.000000</td>\n",
       "    </tr>\n",
       "    <tr>\n",
       "      <th>mean</th>\n",
       "      <td>833.518182</td>\n",
       "      <td>131.175701</td>\n",
       "      <td>10.766000</td>\n",
       "      <td>3.077745</td>\n",
       "      <td>1.462471</td>\n",
       "      <td>516.516129</td>\n",
       "    </tr>\n",
       "    <tr>\n",
       "      <th>std</th>\n",
       "      <td>1042.798253</td>\n",
       "      <td>102.120341</td>\n",
       "      <td>21.168782</td>\n",
       "      <td>9.788764</td>\n",
       "      <td>1.167462</td>\n",
       "      <td>201.119401</td>\n",
       "    </tr>\n",
       "    <tr>\n",
       "      <th>min</th>\n",
       "      <td>14.000000</td>\n",
       "      <td>1.000000</td>\n",
       "      <td>0.190000</td>\n",
       "      <td>0.050000</td>\n",
       "      <td>0.500000</td>\n",
       "      <td>140.000000</td>\n",
       "    </tr>\n",
       "    <tr>\n",
       "      <th>25%</th>\n",
       "      <td>222.000000</td>\n",
       "      <td>41.250000</td>\n",
       "      <td>0.950000</td>\n",
       "      <td>0.192500</td>\n",
       "      <td>0.870000</td>\n",
       "      <td>365.000000</td>\n",
       "    </tr>\n",
       "    <tr>\n",
       "      <th>50%</th>\n",
       "      <td>573.000000</td>\n",
       "      <td>122.500000</td>\n",
       "      <td>1.830000</td>\n",
       "      <td>0.500000</td>\n",
       "      <td>1.220000</td>\n",
       "      <td>490.000000</td>\n",
       "    </tr>\n",
       "    <tr>\n",
       "      <th>75%</th>\n",
       "      <td>1091.500000</td>\n",
       "      <td>200.000000</td>\n",
       "      <td>10.745000</td>\n",
       "      <td>1.642500</td>\n",
       "      <td>1.530000</td>\n",
       "      <td>654.000000</td>\n",
       "    </tr>\n",
       "    <tr>\n",
       "      <th>max</th>\n",
       "      <td>5971.000000</td>\n",
       "      <td>430.500000</td>\n",
       "      <td>104.420000</td>\n",
       "      <td>86.390000</td>\n",
       "      <td>9.910000</td>\n",
       "      <td>949.000000</td>\n",
       "    </tr>\n",
       "  </tbody>\n",
       "</table>\n",
       "</div>"
      ],
      "text/plain": [
       "       characteristics_ch1.10.ferritin (ng/ml)  \\\n",
       "count                               110.000000   \n",
       "mean                                833.518182   \n",
       "std                                1042.798253   \n",
       "min                                  14.000000   \n",
       "25%                                 222.000000   \n",
       "50%                                 573.000000   \n",
       "75%                                1091.500000   \n",
       "max                                5971.000000   \n",
       "\n",
       "       characteristics_ch1.11.crp (mg/l)  \\\n",
       "count                         107.000000   \n",
       "mean                          131.175701   \n",
       "std                           102.120341   \n",
       "min                             1.000000   \n",
       "25%                            41.250000   \n",
       "50%                           122.500000   \n",
       "75%                           200.000000   \n",
       "max                           430.500000   \n",
       "\n",
       "       characteristics_ch1.12.ddimer (mg/l_feu)  \\\n",
       "count                                100.000000   \n",
       "mean                                  10.766000   \n",
       "std                                   21.168782   \n",
       "min                                    0.190000   \n",
       "25%                                    0.950000   \n",
       "50%                                    1.830000   \n",
       "75%                                   10.745000   \n",
       "max                                  104.420000   \n",
       "\n",
       "       characteristics_ch1.13.procalcitonin (ng/ml)  \\\n",
       "count                                    102.000000   \n",
       "mean                                       3.077745   \n",
       "std                                        9.788764   \n",
       "min                                        0.050000   \n",
       "25%                                        0.192500   \n",
       "50%                                        0.500000   \n",
       "75%                                        1.642500   \n",
       "max                                       86.390000   \n",
       "\n",
       "       characteristics_ch1.14.lactate (mmol/l)  \\\n",
       "count                                85.000000   \n",
       "mean                                  1.462471   \n",
       "std                                   1.167462   \n",
       "min                                   0.500000   \n",
       "25%                                   0.870000   \n",
       "50%                                   1.220000   \n",
       "75%                                   1.530000   \n",
       "max                                   9.910000   \n",
       "\n",
       "       characteristics_ch1.15.fibrinogen  \n",
       "count                          93.000000  \n",
       "mean                          516.516129  \n",
       "std                           201.119401  \n",
       "min                           140.000000  \n",
       "25%                           365.000000  \n",
       "50%                           490.000000  \n",
       "75%                           654.000000  \n",
       "max                           949.000000  "
      ]
     },
     "execution_count": 22,
     "metadata": {},
     "output_type": "execute_result"
    }
   ],
   "source": [
    "biomarkers.describe()"
   ]
  },
  {
   "cell_type": "code",
   "execution_count": 23,
   "metadata": {},
   "outputs": [
    {
     "name": "stdout",
     "output_type": "stream",
     "text": [
      "\n",
      "\n",
      "characteristics_ch1.10.ferritin (ng/ml) 833.5181818181818\n",
      "\n",
      " characteristics_ch1.0.disease state\n",
      "COVID-19        932.755319\n",
      "non-COVID-19    250.500000\n",
      "Name: characteristics_ch1.10.ferritin (ng/ml), dtype: float64\n",
      "\n",
      "\n",
      "characteristics_ch1.11.crp (mg/l) 131.17570093457948\n",
      "\n",
      " characteristics_ch1.0.disease state\n",
      "COVID-19        140.538043\n",
      "non-COVID-19     73.753333\n",
      "Name: characteristics_ch1.11.crp (mg/l), dtype: float64\n",
      "\n",
      "\n",
      "characteristics_ch1.12.ddimer (mg/l_feu) 10.765999999999996\n",
      "\n",
      " characteristics_ch1.0.disease state\n",
      "COVID-19        11.722000\n",
      "non-COVID-19     5.348667\n",
      "Name: characteristics_ch1.12.ddimer (mg/l_feu), dtype: float64\n",
      "\n",
      "\n",
      "characteristics_ch1.13.procalcitonin (ng/ml) 3.0777450980392174\n",
      "\n",
      " characteristics_ch1.0.disease state\n",
      "COVID-19        3.242989\n",
      "non-COVID-19    2.119333\n",
      "Name: characteristics_ch1.13.procalcitonin (ng/ml), dtype: float64\n",
      "\n",
      "\n",
      "characteristics_ch1.14.lactate (mmol/l) 1.462470588235294\n",
      "\n",
      " characteristics_ch1.0.disease state\n",
      "COVID-19        1.240476\n",
      "non-COVID-19    2.098182\n",
      "Name: characteristics_ch1.14.lactate (mmol/l), dtype: float64\n",
      "\n",
      "\n",
      "characteristics_ch1.15.fibrinogen 516.516129032258\n",
      "\n",
      " characteristics_ch1.0.disease state\n",
      "COVID-19        543.848101\n",
      "non-COVID-19    362.285714\n",
      "Name: characteristics_ch1.15.fibrinogen, dtype: float64\n"
     ]
    }
   ],
   "source": [
    "biomarkers = ['characteristics_ch1.10.ferritin (ng/ml)','characteristics_ch1.11.crp (mg/l)','characteristics_ch1.12.ddimer (mg/l_feu)','characteristics_ch1.13.procalcitonin (ng/ml)','characteristics_ch1.14.lactate (mmol/l)','characteristics_ch1.15.fibrinogen']\n",
    "\n",
    "#Convert String numbers to Integer in Pandas DataFrame\n",
    "for bio in biomarkers:\n",
    "    metadata[bio] = pd.to_numeric(metadata[bio],errors='coerce')\n",
    "    \n",
    "    #mean per disease state\n",
    "    # mean of biomarker per disease state\n",
    "\n",
    "    bio_mean=metadata[bio].mean()\n",
    "    print(\"\\n\")\n",
    "    print(bio, bio_mean)\n",
    "    a=metadata.groupby('characteristics_ch1.0.disease state')[bio].mean()\n",
    "    print(\"\\n\",a)"
   ]
  },
  {
   "cell_type": "markdown",
   "metadata": {},
   "source": [
    "Análise das diferenças entre os grupos COVID-19 e não-COVID-19 para os diferentes biomarcadores:"
   ]
  },
  {
   "cell_type": "code",
   "execution_count": 27,
   "metadata": {},
   "outputs": [
    {
     "name": "stdout",
     "output_type": "stream",
     "text": [
      "Teste à normalidade dos dados:\n",
      "COVID-19 / characteristics_ch1.10.ferritin (ng/ml) (0.6724420189857483, 3.5811387492576396e-13)\n",
      "non-COVID-19 / characteristics_ch1.10.ferritin (ng/ml) (0.8367587924003601, 0.008751677349209785) \n",
      "\n",
      "Teste à normalidade dos dados:\n",
      "COVID-19 / characteristics_ch1.11.crp (mg/l) (0.9439736604690552, 0.0006211342988535762)\n",
      "non-COVID-19 / characteristics_ch1.11.crp (mg/l) (0.861149787902832, 0.025073396041989326) \n",
      "\n",
      "Teste à normalidade dos dados:\n",
      "COVID-19 / characteristics_ch1.12.ddimer (mg/l_feu) (0.5426771640777588, 7.535703154147241e-15)\n",
      "non-COVID-19 / characteristics_ch1.12.ddimer (mg/l_feu) (0.6030751466751099, 2.7178120944881812e-05) \n",
      "\n",
      "Teste à normalidade dos dados:\n",
      "COVID-19 / characteristics_ch1.13.procalcitonin (ng/ml) (0.30038517713546753, 2.0670906431600546e-18)\n",
      "non-COVID-19 / characteristics_ch1.13.procalcitonin (ng/ml) (0.4998037815093994, 3.5043137813772773e-06) \n",
      "\n",
      "Teste à normalidade dos dados:\n",
      "COVID-19 / characteristics_ch1.14.lactate (mmol/l) (0.8686490058898926, 7.334798738156678e-06)\n",
      "non-COVID-19 / characteristics_ch1.14.lactate (mmol/l) (0.6681157350540161, 7.897288924141321e-06) \n",
      "\n",
      "Teste à normalidade dos dados:\n",
      "COVID-19 / characteristics_ch1.15.fibrinogen (0.9711021184921265, 0.06983786821365356)\n",
      "non-COVID-19 / characteristics_ch1.15.fibrinogen (0.7982048988342285, 0.004742539953440428) \n",
      "\n"
     ]
    }
   ],
   "source": [
    "cv = metadata[metadata['characteristics_ch1.0.disease state']=='COVID-19']\n",
    "ncv = metadata[metadata['characteristics_ch1.0.disease state']=='non-COVID-19']\n",
    "\n",
    "for bio in biomarkers:\n",
    "    metadata[bio] = pd.to_numeric(metadata[bio],errors='coerce')\n",
    "    cv_bio = cv[bio].dropna()\n",
    "    ncv_bio = ncv[bio].dropna()\n",
    "    #print(cv_bio)\n",
    "    #print(ncv_bio)\n",
    "\n",
    "    print(\"Teste à normalidade dos dados:\")\n",
    "    print('COVID-19 /', bio, stats.shapiro(cv_bio))\n",
    "    print('non-COVID-19 /', bio, stats.shapiro(ncv_bio),\"\\n\")"
   ]
  },
  {
   "cell_type": "markdown",
   "metadata": {},
   "source": [
    "Os grupos referentes ao fibrinogénio não seguem a mesma distribuição.\n",
    "Os grupos referentes aos restantes biomarcadores (p-value < 0.05) não seguem uma distribuição normal."
   ]
  },
  {
   "cell_type": "code",
   "execution_count": 28,
   "metadata": {},
   "outputs": [
    {
     "name": "stdout",
     "output_type": "stream",
     "text": [
      "Teste U de Mann-Whitney\n",
      "MannwhitneyuResult(statistic=304.0, pvalue=7.410975126923796e-05) characteristics_ch1.10.ferritin (ng/ml)\n",
      "MannwhitneyuResult(statistic=418.0, pvalue=0.0074213196893477785) characteristics_ch1.11.crp (mg/l)\n",
      "MannwhitneyuResult(statistic=518.5, pvalue=0.12632120997310708) characteristics_ch1.12.ddimer (mg/l_feu)\n",
      "MannwhitneyuResult(statistic=576.5, pvalue=0.237717239036226) characteristics_ch1.13.procalcitonin (ng/ml)\n",
      "MannwhitneyuResult(statistic=526.0, pvalue=0.04737718407024209) characteristics_ch1.14.lactate (mmol/l)\n",
      "MannwhitneyuResult(statistic=256.5, pvalue=0.000734975431139085) characteristics_ch1.15.fibrinogen\n",
      "p-value < 0.05. Rejeita H0, os grupos não têm a mesma mediana.\n",
      "\n"
     ]
    }
   ],
   "source": [
    "print(\"Teste U de Mann-Whitney\")\n",
    "\n",
    "bio_not_normal = ['characteristics_ch1.10.ferritin (ng/ml)','characteristics_ch1.11.crp (mg/l)','characteristics_ch1.12.ddimer (mg/l_feu)','characteristics_ch1.13.procalcitonin (ng/ml)','characteristics_ch1.14.lactate (mmol/l)','characteristics_ch1.15.fibrinogen']\n",
    "\n",
    "for bio in bio_not_normal:\n",
    "    metadata[bio] = pd.to_numeric(metadata[bio],errors='coerce')\n",
    "    cv_bio = cv[bio].dropna()\n",
    "    ncv_bio = ncv[bio].dropna()\n",
    "    print(stats.mannwhitneyu(cv_bio, ncv_bio), bio)\n",
    "print(\"p-value < 0.05. Rejeita H0, os grupos não têm a mesma mediana.\\n\")"
   ]
  },
  {
   "cell_type": "markdown",
   "metadata": {},
   "source": [
    "Verificou-se que os todos os biomarcadores analisados, exibem medianas diferentes quando comparamos doentes com diagnóstico COVID-19 e doentes sem este diagnóstico."
   ]
  },
  {
   "cell_type": "code",
   "execution_count": 29,
   "metadata": {
    "scrolled": false
   },
   "outputs": [
    {
     "name": "stdout",
     "output_type": "stream",
     "text": [
      "\n",
      "\n",
      "characteristics_ch1.10.ferritin (ng/ml) \n",
      "\n",
      "characteristics_ch1.3.icu                    no          yes\n",
      "characteristics_ch1.0.disease state                         \n",
      "COVID-19                             796.954545  1052.260000\n",
      "non-COVID-19                         205.285714   285.666667\n"
     ]
    },
    {
     "data": {
      "image/png": "[encoded data removed]",
      "text/plain": [
       "<Figure size 432x288 with 1 Axes>"
      ]
     },
     "metadata": {
      "needs_background": "light"
     },
     "output_type": "display_data"
    },
    {
     "name": "stdout",
     "output_type": "stream",
     "text": [
      "\n",
      "\n",
      "characteristics_ch1.11.crp (mg/l) \n",
      "\n",
      "characteristics_ch1.3.icu                    no         yes\n",
      "characteristics_ch1.0.disease state                        \n",
      "COVID-19                             119.818605  158.720408\n",
      "non-COVID-19                          34.733333   99.766667\n"
     ]
    },
    {
     "data": {
      "image/png": "[encoded data removed]",
      "text/plain": [
       "<Figure size 432x288 with 1 Axes>"
      ]
     },
     "metadata": {
      "needs_background": "light"
     },
     "output_type": "display_data"
    },
    {
     "name": "stdout",
     "output_type": "stream",
     "text": [
      "\n",
      "\n",
      "characteristics_ch1.12.ddimer (mg/l_feu) \n",
      "\n",
      "characteristics_ch1.3.icu                  no        yes\n",
      "characteristics_ch1.0.disease state                     \n",
      "COVID-19                             1.979167  18.880000\n",
      "non-COVID-19                         5.212500   5.504286\n"
     ]
    },
    {
     "data": {
      "image/png": "[encoded data removed]",
      "text/plain": [
       "<Figure size 432x288 with 1 Axes>"
      ]
     },
     "metadata": {
      "needs_background": "light"
     },
     "output_type": "display_data"
    },
    {
     "name": "stdout",
     "output_type": "stream",
     "text": [
      "\n",
      "\n",
      "characteristics_ch1.13.procalcitonin (ng/ml) \n",
      "\n",
      "characteristics_ch1.3.icu                  no       yes\n",
      "characteristics_ch1.0.disease state                    \n",
      "COVID-19                             1.707105  4.434082\n",
      "non-COVID-19                         2.191667  2.071111\n"
     ]
    },
    {
     "data": {
      "image/png": "[encoded data removed]",
      "text/plain": [
       "<Figure size 432x288 with 1 Axes>"
      ]
     },
     "metadata": {
      "needs_background": "light"
     },
     "output_type": "display_data"
    },
    {
     "name": "stdout",
     "output_type": "stream",
     "text": [
      "\n",
      "\n",
      "characteristics_ch1.14.lactate (mmol/l) \n",
      "\n",
      "characteristics_ch1.3.icu                  no      yes\n",
      "characteristics_ch1.0.disease state                   \n",
      "COVID-19                             1.186087  1.27175\n",
      "non-COVID-19                         1.164286  2.53400\n"
     ]
    },
    {
     "data": {
      "image/png": "[encoded data removed]",
      "text/plain": [
       "<Figure size 432x288 with 1 Axes>"
      ]
     },
     "metadata": {
      "needs_background": "light"
     },
     "output_type": "display_data"
    },
    {
     "name": "stdout",
     "output_type": "stream",
     "text": [
      "\n",
      "\n",
      "characteristics_ch1.15.fibrinogen \n",
      "\n",
      "characteristics_ch1.3.icu                    no         yes\n",
      "characteristics_ch1.0.disease state                        \n",
      "COVID-19                             563.558824  528.955556\n",
      "non-COVID-19                         348.000000  373.000000\n"
     ]
    },
    {
     "data": {
      "image/png": "[encoded data removed]",
      "text/plain": [
       "<Figure size 432x288 with 1 Axes>"
      ]
     },
     "metadata": {
      "needs_background": "light"
     },
     "output_type": "display_data"
    }
   ],
   "source": [
    "for bio in biomarkers:\n",
    "    table=pd.pivot_table(metadata,values = bio,index=['characteristics_ch1.0.disease state'],columns=['characteristics_ch1.3.icu'],aggfunc=np.mean)\n",
    "    print(\"\\n\")\n",
    "    print(bio, \"\\n\")\n",
    "    print(table)\n",
    "    table.plot(kind='bar')\n",
    "    plt.legend()\n",
    "    plt.show()"
   ]
  },
  {
   "cell_type": "markdown",
   "metadata": {},
   "source": [
    "Análise das diferenças entre os grupos COVID-19 e não-COVID-19 em ICU para os diferentes biomarcadores:"
   ]
  },
  {
   "cell_type": "code",
   "execution_count": 30,
   "metadata": {},
   "outputs": [
    {
     "name": "stdout",
     "output_type": "stream",
     "text": [
      "Teste à normalidade dos dados:\n",
      "COVID-19 / characteristics_ch1.10.ferritin (ng/ml) (0.7296851873397827, 2.939570187265872e-08)\n",
      "non-COVID-19 / characteristics_ch1.10.ferritin (ng/ml) (0.8502141833305359, 0.0749269500374794) \n",
      "\n",
      "Teste à normalidade dos dados:\n",
      "COVID-19 / characteristics_ch1.11.crp (mg/l) (0.9528987407684326, 0.048432618379592896)\n",
      "non-COVID-19 / characteristics_ch1.11.crp (mg/l) (0.9312303066253662, 0.49314913153648376) \n",
      "\n",
      "Teste à normalidade dos dados:\n",
      "COVID-19 / characteristics_ch1.12.ddimer (mg/l_feu) (0.6747757196426392, 3.824088157244887e-09)\n",
      "non-COVID-19 / characteristics_ch1.12.ddimer (mg/l_feu) (0.8394935131072998, 0.09828334301710129) \n",
      "\n",
      "Teste à normalidade dos dados:\n",
      "COVID-19 / characteristics_ch1.13.procalcitonin (ng/ml) (0.33338654041290283, 1.3885003173272348e-13)\n",
      "non-COVID-19 / characteristics_ch1.13.procalcitonin (ng/ml) (0.4710007309913635, 2.9137365800124826e-06) \n",
      "\n",
      "Teste à normalidade dos dados:\n",
      "COVID-19 / characteristics_ch1.14.lactate (mmol/l) (0.9343225359916687, 0.022340837866067886)\n",
      "non-COVID-19 / characteristics_ch1.14.lactate (mmol/l) (0.7340185642242432, 0.0005886571598239243) \n",
      "\n",
      "Teste à normalidade dos dados:\n",
      "COVID-19 / characteristics_ch1.15.fibrinogen (0.9738714694976807, 0.39675429463386536)\n",
      "non-COVID-19 / characteristics_ch1.15.fibrinogen (0.8005968332290649, 0.029049644246697426) \n",
      "\n"
     ]
    }
   ],
   "source": [
    "biomarkers = ['characteristics_ch1.10.ferritin (ng/ml)','characteristics_ch1.11.crp (mg/l)','characteristics_ch1.12.ddimer (mg/l_feu)','characteristics_ch1.13.procalcitonin (ng/ml)','characteristics_ch1.14.lactate (mmol/l)','characteristics_ch1.15.fibrinogen']\n",
    "\n",
    "cv = metadata[metadata['characteristics_ch1.0.disease state']=='COVID-19']\n",
    "ncv = metadata[metadata['characteristics_ch1.0.disease state']=='non-COVID-19']\n",
    "\n",
    "cv_iuc = cv[cv[\"characteristics_ch1.3.icu\"]==\"yes\"]\n",
    "ncv_iuc = ncv[ncv[\"characteristics_ch1.3.icu\"]==\"yes\"]\n",
    "\n",
    "for bio in biomarkers:\n",
    "    cv_iuc_bio = cv_iuc[bio].dropna()\n",
    "    ncv_iuc_bio = ncv_iuc[bio].dropna()\n",
    "\n",
    "    print(\"Teste à normalidade dos dados:\")\n",
    "    print('COVID-19 /', bio, stats.shapiro(cv_iuc_bio))\n",
    "    print('non-COVID-19 /', bio, stats.shapiro(ncv_iuc_bio),\"\\n\")"
   ]
  },
  {
   "cell_type": "markdown",
   "metadata": {},
   "source": [
    "Os grupos referentes aos biomarcadores D-dimmer, ferritina e fibrinogénio (p-value > 0.05) não seguem uma distribuição normal. Os grupos referentes aos restantes biomarcadores seguem uma distribuição normal (p-value < 0.05)."
   ]
  },
  {
   "cell_type": "code",
   "execution_count": 31,
   "metadata": {},
   "outputs": [
    {
     "name": "stdout",
     "output_type": "stream",
     "text": [
      "Teste U de Mann-Whitney\n",
      "MannwhitneyuResult(statistic=70.0, pvalue=0.000562692682917295) characteristics_ch1.10.ferritin (ng/ml)\n",
      "MannwhitneyuResult(statistic=117.0, pvalue=0.09047272300856335) characteristics_ch1.12.ddimer (mg/l_feu)\n",
      "MannwhitneyuResult(statistic=98.5, pvalue=0.02206858439531203) characteristics_ch1.15.fibrinogen\n",
      "ttest\n",
      "Ttest_indResult(statistic=1.559438709104518, pvalue=0.12452661754344743) characteristics_ch1.11.crp (mg/l)\n",
      "Ttest_indResult(statistic=0.5402356178160989, pvalue=0.5911766977694919) characteristics_ch1.13.procalcitonin (ng/ml)\n",
      "Ttest_indResult(statistic=-3.2745173761918296, pvalue=0.001868200032359405) characteristics_ch1.14.lactate (mmol/l)\n"
     ]
    }
   ],
   "source": [
    "print(\"Teste U de Mann-Whitney\")\n",
    "\n",
    "bio_normal = ['characteristics_ch1.11.crp (mg/l)', 'characteristics_ch1.13.procalcitonin (ng/ml)',\"characteristics_ch1.14.lactate (mmol/l)\" ]\n",
    "bio_not_normal = ['characteristics_ch1.10.ferritin (ng/ml)', \"characteristics_ch1.12.ddimer (mg/l_feu)\", \"characteristics_ch1.15.fibrinogen\" ]\n",
    "\n",
    "for bio in bio_not_normal:\n",
    "    cv_iuc_bio = cv_iuc[bio].dropna()\n",
    "    ncv_iuc_bio = ncv_iuc[bio].dropna()\n",
    "    print(stats.mannwhitneyu(cv_iuc_bio, ncv_iuc_bio), bio)\n",
    "\n",
    "\n",
    "print(\"ttest\")\n",
    "for bio in bio_normal:\n",
    "    cv_iuc_bio = cv_iuc[bio].dropna()\n",
    "    ncv_iuc_bio = ncv_iuc[bio].dropna()\n",
    "    print(stats.ttest_ind(cv_iuc_bio, ncv_iuc_bio), bio)\n"
   ]
  }
 ],
 "metadata": {
  "kernelspec": {
   "display_name": "Python 3",
   "language": "python",
   "name": "python3"
  },
  "language_info": {
   "codemirror_mode": {
    "name": "ipython",
    "version": 3
   },
   "file_extension": ".py",
   "mimetype": "text/x-python",
   "name": "python",
   "nbconvert_exporter": "python",
   "pygments_lexer": "ipython3",
   "version": "3.7.6"
  }
 },
 "nbformat": 4,
 "nbformat_minor": 4
}
